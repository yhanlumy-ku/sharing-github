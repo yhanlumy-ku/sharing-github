{
 "cells": [
  {
   "cell_type": "code",
   "execution_count": null,
   "metadata": {
    "collapsed": true
   },
   "outputs": [],
   "source": [
    "import fipy as fp\n",
    "from matplotlib import pyplot as plt\n",
    "import numpy as np\n",
    "\n",
    "m = fp.Grid1D(nx=50,Lx=2)\n",
    "v = 0.1\n",
    "epsilon= 0.1\n",
    "delta = 0.1\n",
    "x = m.cellCenters[0]\n",
    "xc=np.asarray(m.cellCenters)[0]\n",
    "\n",
    "\n",
    "##Initial conditions\n",
    "c = fp.CellVariable(name=\"c\", mesh=m , value=1., hasOld=True)\n",
    "\n",
    "rho = fp.CellVariable(name=\"rho\", mesh=m , value=0., hasOld=True)\n",
    "\n",
    "phi = fp.CellVariable(name=\"phi\",mesh=m, hasOld=True)\n",
    "phi.setValue(v*(x-1))\n",
    "\n",
    "#Plot the initial values\n",
    "plt.plot(xc, phi.value, label='$\\phi$')\n",
    "plt.plot(xc, c.value, label='$c$')\n",
    "plt.plot(xc, rho.value, label='$\\\\rho$')\n",
    "plt.xlabel('x')\n",
    "plt.legend(loc=7)\n",
    "plt.show()\n",
    "\n",
    "cFace = c.faceValue\n",
    "rhoFace = rho.faceValue\n",
    "phiFace = phi.faceValue\n",
    "\n",
    "#vi =Viewer((phi, c, rho),datamin=-1.1, datamax=1.1)\n",
    "\n",
    "#Calculate cell distance\n",
    "from fipy.tools import numerix\n",
    "MA = numerix.MA\n",
    "\n",
    "tmp = MA.repeat(m._faceCenters[..., numerix.NewAxis,:], 2, 1)\n",
    "cellToFaceDistanceVectors = tmp - numerix.take(m._cellCenters, m.faceCellIDs, axis=1)\n",
    "\n",
    "tmp = numerix.take(m._cellCenters, m.faceCellIDs, axis=1)\n",
    "tmp = tmp[..., 1,:] - tmp[..., 0,:]\n",
    "cellDistanceVectors = MA.filled(MA.where(MA.getmaskarray(tmp), cellToFaceDistanceVectors[:, 0], tmp))\n",
    "\n",
    "mask = m.exteriorFaces\n",
    "Gamma = fp.FaceVariable(mesh=m, value=epsilon*epsilon)\n",
    "Gamma.setValue(0., where=mask)\n",
    "dPf = fp.FaceVariable(mesh=m,\n",
    "                   value=m._faceToCellDistanceRatio * cellDistanceVectors)\n",
    "n = m.faceNormals\n",
    "a = m.faceNormals\n",
    "b = fp.FaceVariable(mesh=m, value=epsilon * delta, rank=0)\n",
    "g = fp.FaceVariable(mesh=m, value=v, rank=0)\n",
    "RobinCoeff = mask * epsilon * epsilon * n / (-dPf.dot(a) + b)"
   ]
  },
  {
   "cell_type": "markdown",
   "metadata": {},
   "source": [
    "The Robin codition below is modified from your original code by $\\verb+ (RobinCoeff*g).divergence+$ to $\\verb+ (RobinCoeff*g*n).divergence+$ "
   ]
  },
  {
   "cell_type": "code",
   "execution_count": null,
   "metadata": {
    "collapsed": true
   },
   "outputs": [],
   "source": [
    "##Equation\n",
    "Drho = epsilon*rho\n",
    "Dc   = epsilon*c\n",
    "\n",
    "eq1 = (fp.TransientTerm(var=c) == fp.DiffusionTerm(coeff=epsilon, var=c) +fp.DiffusionTerm(coeff=Drho, var=phi))\n",
    "eq2 = (fp.TransientTerm(var=rho) == fp.DiffusionTerm(coeff=epsilon, var=rho) +fp.DiffusionTerm(coeff=Dc, var=phi))\n",
    "eq3 = (fp.DiffusionTerm(coeff=Gamma, var=phi) + (RobinCoeff * g*n).divergence\n",
    "       - fp.ImplicitSourceTerm(coeff=(RobinCoeff).divergence, var=phi) + fp.ImplicitSourceTerm(coeff=1.0, var=rho))\n",
    "eqns = eq1 & eq2 & eq3 "
   ]
  },
  {
   "cell_type": "markdown",
   "metadata": {},
   "source": [
    "The piece $\\verb+fp.ImplicitSourceTerm(coeff=(RobinCoeff).divergence, var=dphi)+$ was inserted for the Robin condition for dphi"
   ]
  },
  {
   "cell_type": "code",
   "execution_count": null,
   "metadata": {
    "collapsed": true
   },
   "outputs": [],
   "source": [
    "dc = fp.CellVariable(mesh=m, name=r\"$\\delta c$\", hasOld=True)\n",
    "drho = fp.CellVariable(mesh=m, name=r\"$\\delta rho$\", hasOld=True)\n",
    "dphi = fp.CellVariable(mesh=m, name=r\"$\\delta phi$\", hasOld=True)\n",
    "\n",
    "dcEq =((fp.TransientTerm(var=dc)==fp.DiffusionTerm(coeff=epsilon, var=dc)+fp.ConvectionTerm(coeff=epsilon*phi.faceGrad,var=drho)+fp.DiffusionTerm(coeff=epsilon*rho, var=dphi))+fp.ResidualTerm(equation=eq1))\n",
    "\n",
    "drhoEq = ((fp.TransientTerm(var=drho)==fp.ConvectionTerm(coeff=epsilon*phi.faceGrad, var=dc)+fp.DiffusionTerm(coeff=epsilon,var=drho)+fp.DiffusionTerm(coeff=epsilon*c, var=dphi))+fp.ResidualTerm(equation=eq2))\n",
    "\n",
    "dphiEq =((fp.ImplicitSourceTerm(coeff=1.0, var=drho)+fp.DiffusionTerm(coeff=Gamma, var=dphi)-fp.ImplicitSourceTerm(coeff=(RobinCoeff).divergence, var=dphi))+fp.ResidualTerm(equation=eq3)) \n",
    "\n",
    "dEq = dcEq & drhoEq & dphiEq"
   ]
  },
  {
   "cell_type": "code",
   "execution_count": null,
   "metadata": {
    "collapsed": true
   },
   "outputs": [],
   "source": [
    "dc.value = 2.\n",
    "drho.value = 1.\n",
    "dphi.value  = 1.\n",
    "\n",
    "##Sweep\n",
    "newton = []\n",
    "c.updateOld()\n",
    "rho.updateOld()\n",
    "phi.updateOld()\n",
    "dc.updateOld()\n",
    "drho.updateOld()\n",
    "dphi.updateOld()\n",
    "for sweep in xrange(10):\n",
    "    res = dEq.sweep(dt=10)\n",
    "    c.value = c.value + dc.value\n",
    "    rho.value = rho.value + drho.value\n",
    "    phi.value = phi.value+drho.value\n",
    "    newton.append([sweep, res, max(abs(dc)), max(abs(drho)), max(abs(dphi))])\n",
    "    \n",
    "newton = numerix.array(newton)\n",
    "print(newton)\n",
    "\n",
    "##Print\n",
    "plt.semilogy(newton[...,0], newton[..., 1], label=\"newton\")\n",
    "plt.ylabel(\"residual\")\n",
    "plt.xlabel(\"sweep\")\n",
    "plt.legend()\n",
    "plt.show()\n",
    "\n",
    "print(phi.value)\n",
    "#Plot the results\n",
    "plt.plot(xc, phi.value, label='$\\phi$ - soln')\n",
    "plt.plot(xc, c.value, label='$c$-soln')\n",
    "plt.plot(xc, rho.value, label='$\\\\rho$ - soln')\n",
    "plt.xlabel('x')\n",
    "plt.legend(loc=7)\n",
    "plt.show()\n"
   ]
  }
 ],
 "metadata": {
  "kernelspec": {
   "display_name": "Python 2",
   "language": "python",
   "name": "python2"
  },
  "language_info": {
   "codemirror_mode": {
    "name": "ipython",
    "version": 2
   },
   "file_extension": ".py",
   "mimetype": "text/x-python",
   "name": "python",
   "nbconvert_exporter": "python",
   "pygments_lexer": "ipython2",
   "version": "2.7.13"
  }
 },
 "nbformat": 4,
 "nbformat_minor": 2
}
