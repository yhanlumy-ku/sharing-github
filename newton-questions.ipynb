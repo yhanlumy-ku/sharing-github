{
 "cells": [
  {
   "cell_type": "markdown",
   "metadata": {
    "deletable": true,
    "editable": true
   },
   "source": [
    "Here, I try to solve the system of equations\n",
    "\\begin{align}\n",
    "\\frac{\\partial c}{\\partial t} \n",
    "&= \\varepsilon\\frac{\\partial}{\\partial x} \\left(\\frac{\\partial c}{\\partial x} + \\rho\\frac{\\partial \\phi}{\\partial x}\\right)\\\\\n",
    "\\frac{\\partial \\rho}{\\partial t} \n",
    "&=  \\varepsilon\\frac{\\partial}{\\partial x} \\left(\\frac{\\partial\\rho}{\\partial x}  + c \\frac{\\partial \\phi}{\\partial x}\\right)\\\\\n",
    "-\\varepsilon^2 \\frac{\\partial^2\\phi}{\\partial x^2} &= \\rho\\\\\n",
    "\\end{align}\n",
    "\n",
    "with the boundary conditions\n",
    "\n",
    "\\begin{equation}\n",
    "\\begin{split}\n",
    "\\frac{\\partial c}{\\partial x} + \\rho\\frac{\\partial \\phi}{\\partial x} &= 0\n",
    "\\quad\\text{at $ x = 0$ or $x = 2$}\\\\\n",
    "\\frac{\\partial \\rho}{\\partial x} + c\\frac{\\partial \\phi}{\\partial x} &= 0\n",
    "\\quad\\text{at $ x = 0$ or $x = 2$}\\\\\n",
    "\\end{split}\n",
    "\\end{equation}\n",
    "\n",
    "\\begin{equation}\n",
    "\\begin{split}\n",
    "\\phi -\\varepsilon\\delta \\frac{\\partial \\phi}{\\partial x} &= -v \\quad\\text{at $x = 0$}\\\\\n",
    "\\phi+ \\varepsilon\\delta \\frac{\\partial \\phi}{\\partial x} &= v \\quad\\text{at $x = 2$}\n",
    "\\end{split}\n",
    "\\end{equation}\n",
    "\n",
    "The initial values are\n",
    "\\begin{equation}\n",
    "\\begin{split}\n",
    "c(x,0) &= 1\\\\\n",
    "\\rho(x,0) &= 0\\\\\n",
    "\\phi(x,0) &= vx\\\\\n",
    "\\end{split}\n",
    "\\end{equation}\n"
   ]
  },
  {
   "cell_type": "markdown",
   "metadata": {
    "deletable": true,
    "editable": true
   },
   "source": [
    "In the nabla notation, the above Robin boundary condition for $ \\phi $ is written as  \n",
    "\n",
    "\\begin{equation}\n",
    "\\hat{n}\\cdot(\\hat{a}\\phi + b \\nabla \\phi) = v(\\vec{x}),\\quad\\text{on $S_R$}\n",
    "\\end{equation}\n",
    "\n",
    "\n",
    "where $\\hat{a}= \\hat{n}$   and   b=epsilon*delta"
   ]
  },
  {
   "cell_type": "code",
   "execution_count": 1,
   "metadata": {
    "collapsed": true,
    "deletable": true,
    "editable": true
   },
   "outputs": [],
   "source": [
    "import fipy as fp\n",
    "from matplotlib import pyplot as plt\n",
    "import numpy as np\n",
    "\n",
    "m = fp.Grid1D(nx=50,Lx=2)\n",
    "v = 0.1\n",
    "epsilon= 0.1\n",
    "delta = 0.1\n",
    "x = m.cellCenters[0]\n",
    "xc=np.asarray(m.cellCenters)[0]"
   ]
  },
  {
   "cell_type": "code",
   "execution_count": null,
   "metadata": {
    "collapsed": true,
    "deletable": true,
    "editable": true
   },
   "outputs": [],
   "source": [
    "##Initial conditions\n",
    "c = fp.CellVariable(name=\"c\", mesh=m , value=1., hasOld=True)\n",
    "\n",
    "rho = fp.CellVariable(name=\"rho\", mesh=m , value=0., hasOld=True)\n",
    "\n",
    "phi = fp.CellVariable(name=\"phi\",mesh=m, hasOld=True)\n",
    "phi.setValue(v*(x-1))\n",
    "\n",
    "#Plot the initial values\n",
    "plt.plot(xc, phi.value, label='$\\phi$')\n",
    "plt.plot(xc, c.value, label='$c$')\n",
    "plt.plot(xc, rho.value, label='$\\\\rho$')\n",
    "plt.xlabel('x')\n",
    "plt.legend(loc=7)\n",
    "plt.show()\n",
    "\n",
    "cFace = c.faceValue\n",
    "rhoFace = rho.faceValue\n",
    "phiFace = phi.faceValue"
   ]
  },
  {
   "cell_type": "code",
   "execution_count": null,
   "metadata": {
    "collapsed": true,
    "deletable": true,
    "editable": true
   },
   "outputs": [],
   "source": [
    "#Calculate cell distance\n",
    "from fipy.tools import numerix\n",
    "MA = numerix.MA\n",
    "\n",
    "tmp = MA.repeat(m._faceCenters[..., numerix.NewAxis,:], 2, 1)\n",
    "cellToFaceDistanceVectors = tmp - numerix.take(m._cellCenters, m.faceCellIDs, axis=1)\n",
    "\n",
    "tmp = numerix.take(m._cellCenters, m.faceCellIDs, axis=1)\n",
    "tmp = tmp[..., 1,:] - tmp[..., 0,:]\n",
    "cellDistanceVectors = MA.filled(MA.where(MA.getmaskarray(tmp), cellToFaceDistanceVectors[:, 0], tmp))"
   ]
  },
  {
   "cell_type": "code",
   "execution_count": null,
   "metadata": {
    "collapsed": true,
    "deletable": true,
    "editable": true
   },
   "outputs": [],
   "source": [
    "mask = m.exteriorFaces\n",
    "Gamma = fp.FaceVariable(mesh=m, value=epsilon*epsilon)\n",
    "Gamma.setValue(0., where=mask)\n",
    "dPf = fp.FaceVariable(mesh=m,\n",
    "                   value=m._faceToCellDistanceRatio * cellDistanceVectors)\n",
    "n = m.faceNormals\n",
    "a = m.faceNormals\n",
    "b = fp.FaceVariable(mesh=m, value=epsilon * delta, rank=0)\n",
    "g = fp.FaceVariable(mesh=m, value=v, rank=0)\n",
    "RobinCoeff = mask * epsilon * epsilon * n / (-dPf.dot(a) + b)\n"
   ]
  },
  {
   "cell_type": "markdown",
   "metadata": {
    "deletable": true,
    "editable": true
   },
   "source": [
    "I understand that you are tryin to map\n",
    "\n",
    "\\begin{equation}\n",
    "\\begin{split}\n",
    "\\int_V\\nabla\\cdot\\left(\\nabla\\phi\\right) d V &= \\int_S\\hat{n}\\cdot\\nabla\\phi d S\\\\\n",
    "&\\approx \\sum_f\\left(\\hat{n}\\cdot\\nabla\\phi\\right)_f A_f\\\\\n",
    "&=\\sum_{f\\notin S_R}(\\hat{n}\\cdot\\nabla\\phi) A_f \n",
    "+ \\sum_{f\\sum S_R} \\left(\\hat{n}\\cdot\\nabla\\phi\\right)_f A_f\\\\\n",
    "&\\approx \\sum_{f\\notin S_R}(\\hat{n}\\cdot\\nabla\\phi) A_f \n",
    "+\\sum_{f\\in S_R}\\frac{v_f - (\\hat{n}\\cdot\\hat{a})_f\\phi_P}{-\\left(\\vec{d}_{fP}\\cdot\\vec{a}\\right)_f + b_f}A_f\n",
    "\\end{split}\n",
    "\\end{equation}\n",
    "\n",
    "into the python notebook. \n",
    "\n",
    "In the above code, the value of g is set to v. \n",
    "However, v = 1 throughout this workbook. The Robin boundary condition that I intended was\n",
    "\n",
    "\\begin{equation}\n",
    "\\begin{split}\n",
    "\\phi -\\varepsilon\\delta \\frac{\\partial \\phi}{\\partial x} &= -v \\quad\\text{at $x = 0$}\\\\\n",
    "\\phi+ \\varepsilon\\delta \\frac{\\partial \\phi}{\\partial x} &= v \\quad\\text{at $x = 2$}\n",
    "\\end{split}\n",
    "\\end{equation}\n",
    "\n",
    "**Question**: As you can see, shouldn't the value of g be set to -v on the left and +v on the right? The present code gives the solution of  phi that is not symmetric. I expect phi to have some symmetric behavior near the left and right boundary."
   ]
  },
  {
   "cell_type": "code",
   "execution_count": null,
   "metadata": {
    "collapsed": true,
    "deletable": true,
    "editable": true
   },
   "outputs": [],
   "source": [
    "#Equation\n",
    "Drho = epsilon*rho\n",
    "Dc   = epsilon*c\n",
    "\n",
    "eq1 = (fp.TransientTerm(var=c) == fp.DiffusionTerm(coeff=epsilon, var=c) +fp.DiffusionTerm(coeff=Drho, var=phi))\n",
    "eq2 = (fp.TransientTerm(var=rho) == fp.DiffusionTerm(coeff=epsilon, var=rho) +fp.DiffusionTerm(coeff=Dc, var=phi))\n",
    "eq3 = ((fp.DiffusionTerm(coeff=Gamma, var=phi) + (RobinCoeff * g).divergence\n",
    "       - fp.ImplicitSourceTerm(coeff=(RobinCoeff).divergence, var=phi) + fp.ImplicitSourceTerm(coeff=1.0, var=rho)) == 0)\n",
    "eqns = eq1 & eq2 & eq3 "
   ]
  },
  {
   "cell_type": "markdown",
   "metadata": {
    "deletable": true,
    "editable": true
   },
   "source": [
    "Below, I have tried to implement the Newton method for the set of equations\n",
    "\n",
    "\\begin{equation}\n",
    "\\vec{F}(\\vec{x}) = \\left\\{\\begin{array}{l}\n",
    "\\displaystyle{ -\\frac{\\partial c}{\\partial t} +\\varepsilon\\nabla\\cdot\\left(\\nabla c+ \\rho\\nabla \\phi \\right)}\\\\\n",
    "\\,\\\\\n",
    "\\displaystyle{}\n",
    "\\displaystyle{-\\frac{\\partial \\rho}{\\partial t} +\\varepsilon\\nabla\\cdot\\left(\\nabla \\rho  + c \\nabla \\phi \\right)}\\\\\n",
    "\\,\\\\\n",
    "\\displaystyle{\\varepsilon^2 \\nabla\\cdot(\\nabla \\phi)+ \\rho}\n",
    "\\end{array}\n",
    "\\right.\n",
    "\\end{equation}\n",
    "\n",
    "The variaton in x leads to \n",
    "\n",
    "\\begin{equation}\n",
    "\\vec{F}(\\vec{x} + \\delta\\vec{x}) = \\vec{F}(\\vec{x}) + \\left.\\delta\\vec{F}\\right|_{\\vec{x}}\\approx 0\n",
    "\\end{equation}\n",
    "\n",
    "where \n",
    "\n",
    "\n",
    "\\begin{equation}\n",
    "\\delta \\vec{F}(\\vec{x}) \\equiv \n",
    "\\left\\{\n",
    "\\begin{array}{ll}\n",
    "\\displaystyle{-\\frac{\\partial \\delta c}{\\partial t}+\\varepsilon\\nabla\\cdot\\nabla \\delta c \n",
    "+ \\varepsilon\\nabla\\cdot(\\nabla\\phi)\\delta\\rho \n",
    "+ \\varepsilon\\nabla\\cdot\\left(\\rho\\nabla\\delta\\phi\\right)}\\\\\n",
    "\\,\\\\\n",
    "\\displaystyle{-\\frac{\\partial \\delta \\rho}{\\partial t}+\\varepsilon\\nabla\\cdot(\\nabla\\phi)\\delta c\n",
    "+\\varepsilon\\nabla\\cdot\\nabla\\delta\\rho\n",
    "+ \\varepsilon\\nabla\\cdot\\left(c\\nabla\\delta\\phi\\right)}\\\\\n",
    "\\,\\\\\n",
    "\\displaystyle{\\delta\\rho \n",
    "+ \\epsilon^2\\nabla\\cdot\\left(\\nabla\\delta\\phi\\right)}\n",
    "\\end{array}\n",
    "\\right.\n",
    "\\end{equation}\n",
    "\n",
    "\n",
    "The impletation is shown below:"
   ]
  },
  {
   "cell_type": "code",
   "execution_count": null,
   "metadata": {
    "collapsed": true,
    "deletable": true,
    "editable": true
   },
   "outputs": [],
   "source": [
    "dc = fp.CellVariable(mesh=m, name=r\"$\\delta c$\", hasOld=True)\n",
    "drho = fp.CellVariable(mesh=m, name=r\"$\\delta rho$\", hasOld=True)\n",
    "dphi = fp.CellVariable(mesh=m, name=r\"$\\delta phi$\", hasOld=True)\n",
    "\n",
    "dcEq =((fp.TransientTerm(var=dc)==fp.DiffusionTerm(coeff=epsilon, var=dc)+fp.ConvectionTerm(coeff=epsilon*phi.faceGrad,var=drho)+fp.DiffusionTerm(coeff=epsilon*rho, var=dphi))+fp.ResidualTerm(equation=eq1))\n",
    "\n",
    "drhoEq = ((fp.TransientTerm(var=drho)==fp.ConvectionTerm(coeff=epsilon*phi.faceGrad, var=dc)+fp.DiffusionTerm(coeff=epsilon,var=drho)+fp.DiffusionTerm(coeff=epsilon*c, var=dphi))+fp.ResidualTerm(equation=eq2))\n",
    "\n",
    "dphiEq =((fp.ImplicitSourceTerm(coeff=1.0, var=drho)+fp.DiffusionTerm(coeff=epsilon**2, var=dphi))+fp.ResidualTerm(equation=eq3)) \n",
    "\n",
    "dEq = dcEq & drhoEq & dphiEq"
   ]
  },
  {
   "cell_type": "markdown",
   "metadata": {
    "deletable": true,
    "editable": true
   },
   "source": [
    "Given the constraints below, the sweep routine seems to be functioning and the residue tends to go down. However, the solution was not right. I suspect that the Robin boudnary condition for dphi is not correct. In fact, all boundary conditions for the variational terms may not be correct. \n",
    "\n",
    "**Questions**: How do we treat the boundary condition on the varational terms?  Especially, the Robin boundary conditions on this term.\n",
    "\n",
    "If there is anything else that are wrong in this notebook, please let me know. "
   ]
  },
  {
   "cell_type": "code",
   "execution_count": 1,
   "metadata": {
    "collapsed": false,
    "deletable": true,
    "editable": true
   },
   "outputs": [
    {
     "ename": "NameError",
     "evalue": "name 'dc' is not defined",
     "output_type": "error",
     "traceback": [
      "\u001b[0;31m---------------------------------------------------------------------------\u001b[0m",
      "\u001b[0;31mNameError\u001b[0m                                 Traceback (most recent call last)",
      "\u001b[0;32m<ipython-input-1-3c23447429f5>\u001b[0m in \u001b[0;36m<module>\u001b[0;34m()\u001b[0m\n\u001b[0;32m----> 1\u001b[0;31m \u001b[0mdc\u001b[0m\u001b[0;34m.\u001b[0m\u001b[0mconstrain\u001b[0m\u001b[0;34m(\u001b[0m\u001b[0;36m0.\u001b[0m\u001b[0;34m,\u001b[0m \u001b[0mwhere\u001b[0m\u001b[0;34m=\u001b[0m\u001b[0mm\u001b[0m\u001b[0;34m.\u001b[0m\u001b[0mfacesRight\u001b[0m\u001b[0;34m)\u001b[0m\u001b[0;34m\u001b[0m\u001b[0m\n\u001b[0m\u001b[1;32m      2\u001b[0m \u001b[0mdc\u001b[0m\u001b[0;34m.\u001b[0m\u001b[0mconstrain\u001b[0m\u001b[0;34m(\u001b[0m\u001b[0;36m0.\u001b[0m\u001b[0;34m,\u001b[0m \u001b[0mwhere\u001b[0m\u001b[0;34m=\u001b[0m\u001b[0mm\u001b[0m\u001b[0;34m.\u001b[0m\u001b[0mfacesLeft\u001b[0m\u001b[0;34m)\u001b[0m\u001b[0;34m\u001b[0m\u001b[0m\n\u001b[1;32m      3\u001b[0m \u001b[0mdrho\u001b[0m\u001b[0;34m.\u001b[0m\u001b[0mconstrain\u001b[0m\u001b[0;34m(\u001b[0m\u001b[0;36m0.\u001b[0m\u001b[0;34m,\u001b[0m \u001b[0mwhere\u001b[0m\u001b[0;34m=\u001b[0m\u001b[0mm\u001b[0m\u001b[0;34m.\u001b[0m\u001b[0mfacesRight\u001b[0m\u001b[0;34m)\u001b[0m\u001b[0;34m\u001b[0m\u001b[0m\n\u001b[1;32m      4\u001b[0m \u001b[0mdrho\u001b[0m\u001b[0;34m.\u001b[0m\u001b[0mconstrain\u001b[0m\u001b[0;34m(\u001b[0m\u001b[0;36m0.\u001b[0m\u001b[0;34m,\u001b[0m \u001b[0mwhere\u001b[0m\u001b[0;34m=\u001b[0m\u001b[0mm\u001b[0m\u001b[0;34m.\u001b[0m\u001b[0mfacesLeft\u001b[0m\u001b[0;34m)\u001b[0m\u001b[0;34m\u001b[0m\u001b[0m\n\u001b[1;32m      5\u001b[0m \u001b[0mdphi\u001b[0m\u001b[0;34m.\u001b[0m\u001b[0mconstrain\u001b[0m\u001b[0;34m(\u001b[0m\u001b[0;36m0\u001b[0m\u001b[0;34m,\u001b[0m \u001b[0mwhere\u001b[0m\u001b[0;34m=\u001b[0m\u001b[0mm\u001b[0m\u001b[0;34m.\u001b[0m\u001b[0mfacesLeft\u001b[0m\u001b[0;34m)\u001b[0m\u001b[0;34m\u001b[0m\u001b[0m\n",
      "\u001b[0;31mNameError\u001b[0m: name 'dc' is not defined"
     ]
    }
   ],
   "source": [
    "dc.constrain(0., where=m.facesRight)\n",
    "dc.constrain(0., where=m.facesLeft)\n",
    "drho.constrain(0., where=m.facesRight)\n",
    "drho.constrain(0., where=m.facesLeft)\n",
    "dphi.constrain(0, where=m.facesLeft)\n",
    "#dphi.faceGrad.constrain([-phi.faceValue/(epsilon*delta)], where=m.facesRight)"
   ]
  },
  {
   "cell_type": "code",
   "execution_count": null,
   "metadata": {
    "collapsed": true,
    "deletable": true,
    "editable": true
   },
   "outputs": [],
   "source": [
    "dc.value = 0.\n",
    "drho.value = 0.\n",
    "dphi.value  = 0."
   ]
  },
  {
   "cell_type": "code",
   "execution_count": null,
   "metadata": {
    "collapsed": true,
    "deletable": true,
    "editable": true
   },
   "outputs": [],
   "source": [
    "##Sweep\n",
    "newton = []\n",
    "c.updateOld()\n",
    "rho.updateOld()\n",
    "phi.updateOld()\n",
    "dc.updateOld()\n",
    "drho.updateOld()\n",
    "dphi.updateOld()\n",
    "for sweep in xrange(10):\n",
    "    res = dEq.sweep(dt=1000)\n",
    "    c.value = c.value + dc.value\n",
    "    rho.value = rho.value + drho.value\n",
    "    phi.value = phi.value+drho.value\n",
    "    newton.append([sweep, res, max(abs(dc)), max(abs(drho)), max(abs(dphi))])\n",
    "    \n",
    "newton = numerix.array(newton)\n",
    "print(newton)"
   ]
  },
  {
   "cell_type": "code",
   "execution_count": null,
   "metadata": {
    "collapsed": true,
    "deletable": true,
    "editable": true
   },
   "outputs": [],
   "source": [
    "##Print\n",
    "plt.semilogy(newton[...,0], newton[..., 1], label=\"newton\")\n",
    "plt.ylabel(\"residual\")\n",
    "plt.xlabel(\"sweep\")\n",
    "plt.legend()\n",
    "plt.show()\n",
    "\n",
    "print(phi.value)\n",
    "#Plot the results\n",
    "plt.plot(xc, phi.value, label='$\\phi$ - soln')\n",
    "plt.plot(xc, c.value, label='$c$-soln')\n",
    "plt.plot(xc, rho.value, label='$\\\\rho$ - soln')\n",
    "plt.xlabel('x')\n",
    "plt.legend(loc=7)\n",
    "plt.show()"
   ]
  }
 ],
 "metadata": {
  "kernelspec": {
   "display_name": "Python 2",
   "language": "python",
   "name": "python2"
  },
  "language_info": {
   "codemirror_mode": {
    "name": "ipython",
    "version": 2
   },
   "file_extension": ".py",
   "mimetype": "text/x-python",
   "name": "python",
   "nbconvert_exporter": "python",
   "pygments_lexer": "ipython2",
   "version": "2.7.13"
  }
 },
 "nbformat": 4,
 "nbformat_minor": 2
}
